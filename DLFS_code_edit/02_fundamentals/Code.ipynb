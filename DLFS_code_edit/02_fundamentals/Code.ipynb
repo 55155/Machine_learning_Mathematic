{
 "cells": [
  {
   "cell_type": "code",
   "execution_count": 1,
   "metadata": {},
   "outputs": [],
   "source": [
    "import numpy as np\n",
    "from numpy import ndarray\n",
    "\n",
    "from typing import Callable, Dict, Tuple, List\n",
    "\n",
    "np.set_printoptions(precision=4)\n",
    "# GRAPHS_IMG_FILEPATH = \"/Users/seth/development/01_deep-learning-from-scratch/images/02_fundamentals/graphs/\""
   ]
  },
  {
   "cell_type": "code",
   "execution_count": 2,
   "metadata": {},
   "outputs": [],
   "source": [
    "%load_ext autoreload\n",
    "%autoreload 2"
   ]
  },
  {
   "cell_type": "code",
   "execution_count": 3,
   "metadata": {},
   "outputs": [],
   "source": [
    "TEST_ALL = False"
   ]
  },
  {
   "cell_type": "markdown",
   "metadata": {},
   "source": [
    "# 주택가격 데이터"
   ]
  },
  {
   "cell_type": "code",
   "execution_count": 16,
   "metadata": {},
   "outputs": [],
   "source": [
    "from sklearn.datasets import *"
   ]
  },
  {
   "cell_type": "code",
   "execution_count": 17,
   "metadata": {},
   "outputs": [],
   "source": [
    "# boston = sklearn.datasets.fetch_openml('boston', return_X_y=True)\n",
    "boston = load_diabetes()"
   ]
  },
  {
   "cell_type": "code",
   "execution_count": null,
   "metadata": {},
   "outputs": [],
   "source": [
    "\n"
   ]
  },
  {
   "cell_type": "code",
   "execution_count": 18,
   "metadata": {},
   "outputs": [],
   "source": [
    "data = boston.data\n",
    "target = boston.target\n",
    "features = boston.feature_names"
   ]
  },
  {
   "cell_type": "markdown",
   "metadata": {},
   "source": [
    "# 싸이킷런으로 구현한 선형 회귀"
   ]
  },
  {
   "cell_type": "markdown",
   "metadata": {},
   "source": [
    "## 데이터 준비"
   ]
  },
  {
   "cell_type": "code",
   "execution_count": 19,
   "metadata": {},
   "outputs": [],
   "source": [
    "from sklearn.preprocessing import StandardScaler\n",
    "s = StandardScaler()\n",
    "data = s.fit_transform(data)"
   ]
  },
  {
   "cell_type": "code",
   "execution_count": 20,
   "metadata": {},
   "outputs": [],
   "source": [
    "from sklearn.model_selection import train_test_split\n",
    "X_train, X_test, y_train, y_test = train_test_split(data, target, test_size=0.3, random_state=80718)\n",
    "\n",
    "y_train, y_test = y_train.reshape(-1, 1), y_test.reshape(-1, 1)"
   ]
  },
  {
   "cell_type": "code",
   "execution_count": 31,
   "metadata": {},
   "outputs": [
    {
     "name": "stdout",
     "output_type": "stream",
     "text": [
      "[[ 55.]\n",
      " [197.]\n",
      " [ 88.]\n",
      " [115.]\n",
      " [ 53.]\n",
      " [ 98.]\n",
      " [283.]\n",
      " [104.]\n",
      " [ 64.]\n",
      " [142.]\n",
      " [150.]\n",
      " [ 84.]\n",
      " [279.]\n",
      " [172.]\n",
      " [ 88.]\n",
      " [ 65.]\n",
      " [ 45.]\n",
      " [225.]\n",
      " [ 50.]\n",
      " [237.]\n",
      " [ 69.]\n",
      " [ 59.]\n",
      " [131.]\n",
      " [108.]\n",
      " [273.]\n",
      " [ 95.]\n",
      " [ 78.]\n",
      " [ 96.]\n",
      " [246.]\n",
      " [118.]\n",
      " [170.]\n",
      " [214.]\n",
      " [182.]\n",
      " [100.]\n",
      " [275.]\n",
      " [202.]\n",
      " [310.]\n",
      " [346.]\n",
      " [281.]\n",
      " [321.]\n",
      " [268.]\n",
      " [170.]\n",
      " [244.]\n",
      " [220.]\n",
      " [248.]\n",
      " [ 83.]\n",
      " [270.]\n",
      " [104.]\n",
      " [258.]\n",
      " [179.]\n",
      " [212.]\n",
      " [ 61.]\n",
      " [143.]\n",
      " [ 88.]\n",
      " [ 54.]\n",
      " [102.]\n",
      " [ 90.]\n",
      " [111.]\n",
      " [225.]\n",
      " [ 48.]\n",
      " [128.]\n",
      " [118.]\n",
      " [145.]\n",
      " [168.]\n",
      " [143.]\n",
      " [141.]\n",
      " [ 65.]\n",
      " [292.]\n",
      " [ 93.]\n",
      " [ 71.]\n",
      " [107.]\n",
      " [275.]\n",
      " [222.]\n",
      " [219.]\n",
      " [128.]\n",
      " [170.]\n",
      " [102.]\n",
      " [ 72.]\n",
      " [ 74.]\n",
      " [132.]\n",
      " [116.]\n",
      " [241.]\n",
      " [181.]\n",
      " [ 63.]\n",
      " [131.]\n",
      " [135.]\n",
      " [ 83.]\n",
      " [ 77.]\n",
      " [258.]\n",
      " [ 48.]\n",
      " [116.]\n",
      " [220.]\n",
      " [201.]\n",
      " [275.]\n",
      " [196.]\n",
      " [ 72.]\n",
      " [ 42.]\n",
      " [138.]\n",
      " [280.]\n",
      " [184.]\n",
      " [230.]\n",
      " [198.]\n",
      " [ 42.]\n",
      " [262.]\n",
      " [122.]\n",
      " [272.]\n",
      " [219.]\n",
      " [135.]\n",
      " [129.]\n",
      " [243.]\n",
      " [270.]\n",
      " [101.]\n",
      " [160.]\n",
      " [221.]\n",
      " [199.]\n",
      " [ 47.]\n",
      " [252.]\n",
      " [ 64.]\n",
      " [274.]\n",
      " [214.]\n",
      " [215.]\n",
      " [ 97.]\n",
      " [ 68.]\n",
      " [127.]\n",
      " [ 74.]\n",
      " [185.]\n",
      " [ 60.]\n",
      " [183.]\n",
      " [107.]\n",
      " [150.]\n",
      " [ 65.]\n",
      " [ 90.]\n",
      " [109.]]\n"
     ]
    }
   ],
   "source": [
    "print(y_test)"
   ]
  },
  {
   "cell_type": "markdown",
   "metadata": {},
   "source": [
    "## 선형 회귀"
   ]
  },
  {
   "cell_type": "code",
   "execution_count": 21,
   "metadata": {
    "scrolled": true
   },
   "outputs": [],
   "source": [
    "from sklearn.linear_model import LinearRegression\n",
    "lr = LinearRegression(fit_intercept=True)\n",
    "lr.fit(X_train, y_train)\n",
    "preds = lr.predict(X_test)"
   ]
  },
  {
   "cell_type": "code",
   "execution_count": 38,
   "metadata": {},
   "outputs": [],
   "source": [
    "import matplotlib.pyplot as plt\n",
    "import matplotlib\n",
    "\n",
    "plt.rc('font', family='') # For MacOS\n",
    "# # plt.rc('font', family='NanumGothic') # For Windows\n",
    "# matplotlib.rcParams['axes.unicode_minus'] = False\n",
    "# print(plt.rcParams['font.family'])"
   ]
  },
  {
   "cell_type": "code",
   "execution_count": 40,
   "metadata": {},
   "outputs": [
    {
     "name": "stdout",
     "output_type": "stream",
     "text": [
      "[[139.2688]\n",
      " [150.2362]\n",
      " [103.7615]\n",
      " [134.2335]\n",
      " [126.3861]\n",
      " [ 76.73  ]\n",
      " [179.3463]\n",
      " [156.647 ]\n",
      " [116.7087]\n",
      " [138.2491]\n",
      " [118.9089]\n",
      " [ 92.1329]\n",
      " [206.6534]\n",
      " [154.7123]\n",
      " [117.1641]\n",
      " [ 77.9583]\n",
      " [ 30.5772]\n",
      " [218.8372]\n",
      " [142.5277]\n",
      " [157.1189]\n",
      " [109.7673]\n",
      " [ 73.9674]\n",
      " [158.871 ]\n",
      " [105.7964]\n",
      " [254.1002]\n",
      " [141.772 ]\n",
      " [180.2876]\n",
      " [ 80.848 ]\n",
      " [145.4259]\n",
      " [159.2334]\n",
      " [195.7928]\n",
      " [139.8579]\n",
      " [143.822 ]\n",
      " [156.9936]\n",
      " [243.5012]\n",
      " [145.6193]\n",
      " [206.0867]\n",
      " [252.6823]\n",
      " [248.6433]\n",
      " [231.3644]\n",
      " [211.1211]\n",
      " [135.7231]\n",
      " [176.4493]\n",
      " [203.5428]\n",
      " [217.267 ]\n",
      " [125.1748]\n",
      " [236.1714]\n",
      " [ 77.0869]\n",
      " [161.4551]\n",
      " [111.0713]\n",
      " [189.5516]\n",
      " [107.2993]\n",
      " [168.7144]\n",
      " [139.1576]\n",
      " [ 89.7646]\n",
      " [108.6779]\n",
      " [176.2017]\n",
      " [171.5601]\n",
      " [170.4879]\n",
      " [ 73.0435]\n",
      " [ 94.876 ]\n",
      " [ 95.0005]\n",
      " [123.6226]\n",
      " [117.8498]\n",
      " [ 60.6473]\n",
      " [148.4206]\n",
      " [125.899 ]\n",
      " [199.5122]\n",
      " [ 86.9537]\n",
      " [106.7823]\n",
      " [178.2811]\n",
      " [232.0218]\n",
      " [194.2039]\n",
      " [142.6698]\n",
      " [ 65.9528]\n",
      " [ 93.8942]\n",
      " [ 82.2434]\n",
      " [ 44.084 ]\n",
      " [132.3323]\n",
      " [125.6019]\n",
      " [138.1419]\n",
      " [193.0395]\n",
      " [ 82.8575]\n",
      " [102.9577]\n",
      " [161.5305]\n",
      " [108.6122]\n",
      " [136.8495]\n",
      " [177.8033]\n",
      " [281.7308]\n",
      " [ 47.1078]\n",
      " [ 47.4913]\n",
      " [156.2481]\n",
      " [ 82.8686]\n",
      " [210.916 ]\n",
      " [160.1931]\n",
      " [ 52.0327]\n",
      " [131.1258]\n",
      " [ 75.1036]\n",
      " [229.7046]\n",
      " [155.2055]\n",
      " [136.5201]\n",
      " [202.4806]\n",
      " [ 80.3041]\n",
      " [171.9833]\n",
      " [169.5038]\n",
      " [187.3317]\n",
      " [141.165 ]\n",
      " [125.4113]\n",
      " [194.3545]\n",
      " [263.6243]\n",
      " [285.3667]\n",
      " [101.6993]\n",
      " [109.8781]\n",
      " [194.7902]\n",
      " [116.8718]\n",
      " [102.1336]\n",
      " [232.7593]\n",
      " [ 84.9837]\n",
      " [240.0789]\n",
      " [133.6782]\n",
      " [236.6002]\n",
      " [145.323 ]\n",
      " [122.2228]\n",
      " [167.5463]\n",
      " [ 88.0127]\n",
      " [142.4865]\n",
      " [132.3646]\n",
      " [114.8922]\n",
      " [114.9212]\n",
      " [201.7246]\n",
      " [ 92.6395]\n",
      " [ 51.7636]\n",
      " [150.3809]]\n"
     ]
    },
    {
     "data": {
      "image/png": "[encoded data removed]",
      "text/plain": [
       "<Figure size 640x480 with 1 Axes>"
      ]
     },
     "metadata": {},
     "output_type": "display_data"
    }
   ],
   "source": [
    "\n",
    "plt.xlim([0, 51])\n",
    "plt.ylim([0, 51])\n",
    "plt.scatter(preds, y_test)\n",
    "plt.plot([0, 51], [0, 51]);\n",
    "# plt.savefig(IMG_FILEPATH + \"00_linear_real_pred_vs_actual.png\");"
   ]
  },
  {
   "cell_type": "markdown",
   "metadata": {},
   "source": [
    "## 특징값의 변화"
   ]
  },
  {
   "cell_type": "code",
   "execution_count": 29,
   "metadata": {},
   "outputs": [
    {
     "name": "stderr",
     "output_type": "stream",
     "text": [
      "findfont: Font family 'NanumGothicOTF' not found.\n",
      "findfont: Font family 'NanumGothicOTF' not found.\n",
      "findfont: Font family 'NanumGothicOTF' not found.\n",
      "findfont: Font family 'NanumGothicOTF' not found.\n",
      "findfont: Font family 'NanumGothicOTF' not found.\n",
      "findfont: Font family 'NanumGothicOTF' not found.\n",
      "findfont: Font family 'NanumGothicOTF' not found.\n",
      "findfont: Font family 'NanumGothicOTF' not found.\n",
      "findfont: Font family 'NanumGothicOTF' not found.\n",
      "/Users/bangseongjin/miniforge3/lib/python3.10/site-packages/IPython/core/events.py:89: UserWarning: Glyph 47785 (\\N{HANGUL SYLLABLE MOG}) missing from current font.\n",
      "  func(*args, **kwargs)\n",
      "/Users/bangseongjin/miniforge3/lib/python3.10/site-packages/IPython/core/events.py:89: UserWarning: Glyph 54383 (\\N{HANGUL SYLLABLE PYOS}) missing from current font.\n",
      "  func(*args, **kwargs)\n",
      "findfont: Font family 'NanumGothicOTF' not found.\n",
      "findfont: Font family 'NanumGothicOTF' not found.\n",
      "/Users/bangseongjin/miniforge3/lib/python3.10/site-packages/IPython/core/events.py:89: UserWarning: Glyph 44032 (\\N{HANGUL SYLLABLE GA}) missing from current font.\n",
      "  func(*args, **kwargs)\n",
      "/Users/bangseongjin/miniforge3/lib/python3.10/site-packages/IPython/core/events.py:89: UserWarning: Glyph 51109 (\\N{HANGUL SYLLABLE JANG}) missing from current font.\n",
      "  func(*args, **kwargs)\n",
      "/Users/bangseongjin/miniforge3/lib/python3.10/site-packages/IPython/core/events.py:89: UserWarning: Glyph 51473 (\\N{HANGUL SYLLABLE JUNG}) missing from current font.\n",
      "  func(*args, **kwargs)\n",
      "/Users/bangseongjin/miniforge3/lib/python3.10/site-packages/IPython/core/events.py:89: UserWarning: Glyph 50836 (\\N{HANGUL SYLLABLE YO}) missing from current font.\n",
      "  func(*args, **kwargs)\n",
      "/Users/bangseongjin/miniforge3/lib/python3.10/site-packages/IPython/core/events.py:89: UserWarning: Glyph 46020 (\\N{HANGUL SYLLABLE DO}) missing from current font.\n",
      "  func(*args, **kwargs)\n",
      "/Users/bangseongjin/miniforge3/lib/python3.10/site-packages/IPython/core/events.py:89: UserWarning: Glyph 45458 (\\N{HANGUL SYLLABLE NOP}) missing from current font.\n",
      "  func(*args, **kwargs)\n",
      "/Users/bangseongjin/miniforge3/lib/python3.10/site-packages/IPython/core/events.py:89: UserWarning: Glyph 51008 (\\N{HANGUL SYLLABLE EUN}) missing from current font.\n",
      "  func(*args, **kwargs)\n",
      "/Users/bangseongjin/miniforge3/lib/python3.10/site-packages/IPython/core/events.py:89: UserWarning: Glyph 53945 (\\N{HANGUL SYLLABLE TEUG}) missing from current font.\n",
      "  func(*args, **kwargs)\n",
      "/Users/bangseongjin/miniforge3/lib/python3.10/site-packages/IPython/core/events.py:89: UserWarning: Glyph 51669 (\\N{HANGUL SYLLABLE JING}) missing from current font.\n",
      "  func(*args, **kwargs)\n",
      "/Users/bangseongjin/miniforge3/lib/python3.10/site-packages/IPython/core/events.py:89: UserWarning: Glyph 44288 (\\N{HANGUL SYLLABLE GWAN}) missing from current font.\n",
      "  func(*args, **kwargs)\n",
      "/Users/bangseongjin/miniforge3/lib/python3.10/site-packages/IPython/core/events.py:89: UserWarning: Glyph 44228 (\\N{HANGUL SYLLABLE GYE}) missing from current font.\n",
      "  func(*args, **kwargs)\n",
      "findfont: Font family 'NanumGothicOTF' not found.\n",
      "findfont: Font family 'NanumGothicOTF' not found.\n",
      "findfont: Font family 'NanumGothicOTF' not found.\n",
      "findfont: Font family 'NanumGothicOTF' not found.\n",
      "findfont: Font family 'NanumGothicOTF' not found.\n",
      "findfont: Font family 'NanumGothicOTF' not found.\n",
      "findfont: Font family 'NanumGothicOTF' not found.\n",
      "findfont: Font family 'NanumGothicOTF' not found.\n",
      "findfont: Font family 'NanumGothicOTF' not found.\n",
      "findfont: Font family 'NanumGothicOTF' not found.\n",
      "findfont: Font family 'NanumGothicOTF' not found.\n",
      "findfont: Font family 'NanumGothicOTF' not found.\n",
      "findfont: Font family 'NanumGothicOTF' not found.\n",
      "/Users/bangseongjin/miniforge3/lib/python3.10/site-packages/IPython/core/events.py:89: UserWarning: Glyph 51221 (\\N{HANGUL SYLLABLE JEONG}) missing from current font.\n",
      "  func(*args, **kwargs)\n",
      "/Users/bangseongjin/miniforge3/lib/python3.10/site-packages/IPython/core/events.py:89: UserWarning: Glyph 44508 (\\N{HANGUL SYLLABLE GYU}) missing from current font.\n",
      "  func(*args, **kwargs)\n",
      "/Users/bangseongjin/miniforge3/lib/python3.10/site-packages/IPython/core/events.py:89: UserWarning: Glyph 54868 (\\N{HANGUL SYLLABLE HWA}) missing from current font.\n",
      "  func(*args, **kwargs)\n",
      "/Users/bangseongjin/miniforge3/lib/python3.10/site-packages/IPython/core/events.py:89: UserWarning: Glyph 46120 (\\N{HANGUL SYLLABLE DOEM}) missing from current font.\n",
      "  func(*args, **kwargs)\n",
      "findfont: Font family 'NanumGothicOTF' not found.\n",
      "findfont: Font family 'NanumGothicOTF' not found.\n",
      "findfont: Font family 'NanumGothicOTF' not found.\n",
      "findfont: Font family 'NanumGothicOTF' not found.\n",
      "findfont: Font family 'NanumGothicOTF' not found.\n",
      "findfont: Font family 'NanumGothicOTF' not found.\n",
      "findfont: Font family 'NanumGothicOTF' not found.\n",
      "findfont: Font family 'NanumGothicOTF' not found.\n",
      "findfont: Font family 'NanumGothicOTF' not found.\n",
      "findfont: Font family 'NanumGothicOTF' not found.\n",
      "findfont: Font family 'NanumGothicOTF' not found.\n",
      "findfont: Font family 'NanumGothicOTF' not found.\n",
      "findfont: Font family 'NanumGothicOTF' not found.\n",
      "findfont: Font family 'NanumGothicOTF' not found.\n",
      "findfont: Font family 'NanumGothicOTF' not found.\n",
      "findfont: Font family 'NanumGothicOTF' not found.\n",
      "findfont: Font family 'NanumGothicOTF' not found.\n",
      "findfont: Font family 'NanumGothicOTF' not found.\n",
      "findfont: Font family 'NanumGothicOTF' not found.\n",
      "/Users/bangseongjin/miniforge3/lib/python3.10/site-packages/IPython/core/pylabtools.py:152: UserWarning: Glyph 47785 (\\N{HANGUL SYLLABLE MOG}) missing from current font.\n",
      "  fig.canvas.print_figure(bytes_io, **kw)\n",
      "/Users/bangseongjin/miniforge3/lib/python3.10/site-packages/IPython/core/pylabtools.py:152: UserWarning: Glyph 54383 (\\N{HANGUL SYLLABLE PYOS}) missing from current font.\n",
      "  fig.canvas.print_figure(bytes_io, **kw)\n",
      "findfont: Font family 'NanumGothicOTF' not found.\n",
      "findfont: Font family 'NanumGothicOTF' not found.\n",
      "/Users/bangseongjin/miniforge3/lib/python3.10/site-packages/IPython/core/pylabtools.py:152: UserWarning: Glyph 44032 (\\N{HANGUL SYLLABLE GA}) missing from current font.\n",
      "  fig.canvas.print_figure(bytes_io, **kw)\n",
      "/Users/bangseongjin/miniforge3/lib/python3.10/site-packages/IPython/core/pylabtools.py:152: UserWarning: Glyph 51109 (\\N{HANGUL SYLLABLE JANG}) missing from current font.\n",
      "  fig.canvas.print_figure(bytes_io, **kw)\n",
      "/Users/bangseongjin/miniforge3/lib/python3.10/site-packages/IPython/core/pylabtools.py:152: UserWarning: Glyph 51473 (\\N{HANGUL SYLLABLE JUNG}) missing from current font.\n",
      "  fig.canvas.print_figure(bytes_io, **kw)\n",
      "/Users/bangseongjin/miniforge3/lib/python3.10/site-packages/IPython/core/pylabtools.py:152: UserWarning: Glyph 50836 (\\N{HANGUL SYLLABLE YO}) missing from current font.\n",
      "  fig.canvas.print_figure(bytes_io, **kw)\n",
      "/Users/bangseongjin/miniforge3/lib/python3.10/site-packages/IPython/core/pylabtools.py:152: UserWarning: Glyph 46020 (\\N{HANGUL SYLLABLE DO}) missing from current font.\n",
      "  fig.canvas.print_figure(bytes_io, **kw)\n",
      "/Users/bangseongjin/miniforge3/lib/python3.10/site-packages/IPython/core/pylabtools.py:152: UserWarning: Glyph 45458 (\\N{HANGUL SYLLABLE NOP}) missing from current font.\n",
      "  fig.canvas.print_figure(bytes_io, **kw)\n",
      "/Users/bangseongjin/miniforge3/lib/python3.10/site-packages/IPython/core/pylabtools.py:152: UserWarning: Glyph 51008 (\\N{HANGUL SYLLABLE EUN}) missing from current font.\n",
      "  fig.canvas.print_figure(bytes_io, **kw)\n",
      "/Users/bangseongjin/miniforge3/lib/python3.10/site-packages/IPython/core/pylabtools.py:152: UserWarning: Glyph 53945 (\\N{HANGUL SYLLABLE TEUG}) missing from current font.\n",
      "  fig.canvas.print_figure(bytes_io, **kw)\n",
      "/Users/bangseongjin/miniforge3/lib/python3.10/site-packages/IPython/core/pylabtools.py:152: UserWarning: Glyph 51669 (\\N{HANGUL SYLLABLE JING}) missing from current font.\n",
      "  fig.canvas.print_figure(bytes_io, **kw)\n",
      "/Users/bangseongjin/miniforge3/lib/python3.10/site-packages/IPython/core/pylabtools.py:152: UserWarning: Glyph 44288 (\\N{HANGUL SYLLABLE GWAN}) missing from current font.\n",
      "  fig.canvas.print_figure(bytes_io, **kw)\n",
      "/Users/bangseongjin/miniforge3/lib/python3.10/site-packages/IPython/core/pylabtools.py:152: UserWarning: Glyph 44228 (\\N{HANGUL SYLLABLE GYE}) missing from current font.\n",
      "  fig.canvas.print_figure(bytes_io, **kw)\n",
      "findfont: Font family 'NanumGothicOTF' not found.\n",
      "findfont: Font family 'NanumGothicOTF' not found.\n",
      "findfont: Font family 'NanumGothicOTF' not found.\n",
      "findfont: Font family 'NanumGothicOTF' not found.\n",
      "findfont: Font family 'NanumGothicOTF' not found.\n",
      "findfont: Font family 'NanumGothicOTF' not found.\n",
      "findfont: Font family 'NanumGothicOTF' not found.\n",
      "findfont: Font family 'NanumGothicOTF' not found.\n",
      "findfont: Font family 'NanumGothicOTF' not found.\n",
      "findfont: Font family 'NanumGothicOTF' not found.\n",
      "findfont: Font family 'NanumGothicOTF' not found.\n",
      "findfont: Font family 'NanumGothicOTF' not found.\n",
      "findfont: Font family 'NanumGothicOTF' not found.\n",
      "/Users/bangseongjin/miniforge3/lib/python3.10/site-packages/IPython/core/pylabtools.py:152: UserWarning: Glyph 51221 (\\N{HANGUL SYLLABLE JEONG}) missing from current font.\n",
      "  fig.canvas.print_figure(bytes_io, **kw)\n",
      "/Users/bangseongjin/miniforge3/lib/python3.10/site-packages/IPython/core/pylabtools.py:152: UserWarning: Glyph 44508 (\\N{HANGUL SYLLABLE GYU}) missing from current font.\n",
      "  fig.canvas.print_figure(bytes_io, **kw)\n",
      "/Users/bangseongjin/miniforge3/lib/python3.10/site-packages/IPython/core/pylabtools.py:152: UserWarning: Glyph 54868 (\\N{HANGUL SYLLABLE HWA}) missing from current font.\n",
      "  fig.canvas.print_figure(bytes_io, **kw)\n",
      "/Users/bangseongjin/miniforge3/lib/python3.10/site-packages/IPython/core/pylabtools.py:152: UserWarning: Glyph 46120 (\\N{HANGUL SYLLABLE DOEM}) missing from current font.\n",
      "  fig.canvas.print_figure(bytes_io, **kw)\n",
      "findfont: Font family 'NanumGothicOTF' not found.\n",
      "findfont: Font family 'NanumGothicOTF' not found.\n",
      "findfont: Font family 'NanumGothicOTF' not found.\n",
      "findfont: Font family 'NanumGothicOTF' not found.\n",
      "findfont: Font family 'NanumGothicOTF' not found.\n",
      "findfont: Font family 'NanumGothicOTF' not found.\n",
      "findfont: Font family 'NanumGothicOTF' not found.\n",
      "findfont: Font family 'NanumGothicOTF' not found.\n",
      "findfont: Font family 'NanumGothicOTF' not found.\n",
      "findfont: Font family 'NanumGothicOTF' not found.\n"
     ]
    },
    {
     "data": {
      "image/png": "[encoded data removed]",
      "text/plain": [
       "<Figure size 640x480 with 1 Axes>"
      ]
     },
     "metadata": {},
     "output_type": "display_data"
    }
   ],
   "source": [
    "plt.scatter(X_test[:, 9], y_test)\n",
    "plt.xlabel(\"가장 중요도가 높은 특징값(정규화됨)\")\n",
    "plt.ylabel(\"목푯값\")\n",
    "plt.title(\"가장 중요도가 높은 특징값과 목푯값의 관계\");\n",
    "# plt.savefig(IMG_FILEPATH + \"02_most_important_feature_vs_target.png\")"
   ]
  },
  {
   "cell_type": "markdown",
   "metadata": {},
   "source": [
    "선형적 관계가 아니다."
   ]
  },
  {
   "cell_type": "markdown",
   "metadata": {},
   "source": [
    "## 모델의 오차"
   ]
  },
  {
   "cell_type": "code",
   "execution_count": 84,
   "metadata": {},
   "outputs": [],
   "source": [
    "def mae(preds: ndarray, actuals: ndarray):\n",
    "    '''\n",
    "    평균절대오차 계산\n",
    "    '''\n",
    "    return np.mean(np.abs(preds - actuals))\n",
    "\n",
    "def rmse(preds: ndarray, actuals: ndarray):\n",
    "    '''\n",
    "    제곱근 평균제곱오차 계산\n",
    "    '''\n",
    "    return np.sqrt(np.mean(np.power(preds - actuals, 2)))"
   ]
  },
  {
   "cell_type": "code",
   "execution_count": 85,
   "metadata": {},
   "outputs": [
    {
     "name": "stdout",
     "output_type": "stream",
     "text": [
      "평균제곱오차: 3.5671 \n",
      "제곱근 평균제곱오차: 5.0476\n"
     ]
    }
   ],
   "source": [
    "print(\"평균제곱오차:\", round(mae(preds, y_test), 4), \"\\n\"\n",
    "      \"제곱근 평균제곱오차:\", round(rmse(preds, y_test), 4))"
   ]
  },
  {
   "cell_type": "code",
   "execution_count": 86,
   "metadata": {
    "scrolled": true
   },
   "outputs": [
    {
     "data": {
      "text/plain": [
       "array([[-1.01,  0.71,  0.28,  0.71, -2.21,  2.38,  0.71, -2.66,  2.63,\n",
       "        -1.82, -2.33,  0.85, -4.19]])"
      ]
     },
     "execution_count": 86,
     "metadata": {},
     "output_type": "execute_result"
    }
   ],
   "source": [
    "import numpy as np\n",
    "np.round(lr.coef_, 2)"
   ]
  },
  {
   "cell_type": "markdown",
   "metadata": {},
   "source": [
    "## 선형회귀 직접 구현하기"
   ]
  },
  {
   "cell_type": "code",
   "execution_count": 88,
   "metadata": {},
   "outputs": [],
   "source": [
    "def forward_linear_regression(X_batch: ndarray,\n",
    "                              y_batch: ndarray,\n",
    "                              weights: Dict[str, ndarray]\n",
    "                              )-> Tuple[float, Dict[str, ndarray]]:\n",
    "    '''\n",
    "    선형회귀의 순방향 계산 과정\n",
    "    '''\n",
    "    # X와 y의 배치 크기가 같은지 확인\n",
    "    assert X_batch.shape[0] == y_batch.shape[0]\n",
    "\n",
    "    # 행렬곱 계산이 가능한지 확인\n",
    "    assert X_batch.shape[1] == weights['W'].shape[0]\n",
    "\n",
    "    # B의 모양이 1x1인지 확인\n",
    "    assert weights['B'].shape[0] == weights['B'].shape[1] == 1\n",
    "\n",
    "    # 순방향 계산 수행\n",
    "    N = np.dot(X_batch, weights['W'])\n",
    "\n",
    "    P = N + weights['B']\n",
    "\n",
    "    loss = np.mean(np.power(y_batch - P, 2))\n",
    "\n",
    "    # 순방향 계산 과정의 중간값 저장\n",
    "    forward_info: Dict[str, ndarray] = {}\n",
    "    forward_info['X'] = X_batch\n",
    "    forward_info['N'] = N\n",
    "    forward_info['P'] = P\n",
    "    forward_info['y'] = y_batch\n",
    "\n",
    "    return loss, forward_info"
   ]
  },
  {
   "cell_type": "code",
   "execution_count": 89,
   "metadata": {},
   "outputs": [],
   "source": [
    "def to_2d_np(a: ndarray, \n",
    "             type: str = \"col\") -> ndarray:\n",
    "    '''\n",
    "    1차원 텐서를 2차원으로 변환\n",
    "    '''\n",
    "\n",
    "    assert a.ndim == 1, \\\n",
    "    \"입력하는 텐서는 1차원이어야 함\"\n",
    "    \n",
    "    if type == \"col\":        \n",
    "        return a.reshape(-1, 1)\n",
    "    elif type == \"row\":\n",
    "        return a.reshape(1, -1)"
   ]
  },
  {
   "cell_type": "code",
   "execution_count": 90,
   "metadata": {},
   "outputs": [],
   "source": [
    "def permute_data(X: ndarray, y: ndarray):\n",
    "    '''\n",
    "    X와 y를 axis=0 방향으로 짝이 맞도록 섞음\n",
    "    '''\n",
    "    perm = np.random.permutation(X.shape[0])\n",
    "    return X[perm], y[perm]"
   ]
  },
  {
   "cell_type": "code",
   "execution_count": 91,
   "metadata": {},
   "outputs": [],
   "source": [
    "def loss_gradients(forward_info: Dict[str, ndarray],\n",
    "                   weights: Dict[str, ndarray]) -> Dict[str, ndarray]:\n",
    "    '''\n",
    "    선형회귀 모형의 dLdW와 dLdB 계산\n",
    "    '''\n",
    "    batch_size = forward_info['X'].shape[0]\n",
    "\n",
    "    dLdP = -2 * (forward_info['y'] - forward_info['P'])\n",
    "\n",
    "    dPdN = np.ones_like(forward_info['N'])\n",
    "\n",
    "    dPdB = np.ones_like(weights['B'])\n",
    "\n",
    "    dLdN = dLdP * dPdN\n",
    "\n",
    "    dNdW = np.transpose(forward_info['X'], (1, 0))\n",
    "    \n",
    "    # 여기서 행렬곱을 수행함\n",
    "    # dNdW가 왼쪽에 와야 함(1장 마지막 부분 노트 참고)    \n",
    "    dLdW = np.dot(dNdW, dLdN)\n",
    "\n",
    "    # 배치 크기에 해당하는 차원 방향으로 합을 계산함\n",
    "    # (1장 마지막 부분 노트 참고)    \n",
    "    dLdB = (dLdP * dPdB).sum(axis=0)\n",
    "\n",
    "    loss_gradients: Dict[str, ndarray] = {}\n",
    "    loss_gradients['W'] = dLdW\n",
    "    loss_gradients['B'] = dLdB\n",
    "\n",
    "    return loss_gradients"
   ]
  },
  {
   "cell_type": "code",
   "execution_count": 92,
   "metadata": {},
   "outputs": [],
   "source": [
    "Batch = Tuple[ndarray, ndarray]\n",
    "\n",
    "def generate_batch(X: ndarray, \n",
    "                   y: ndarray,\n",
    "                   start: int = 0,\n",
    "                   batch_size: int = 10) -> Batch:\n",
    "    '''\n",
    "    주어진 위치부터 정해진 크기만큼의 X,y의 배치를 생성\n",
    "    '''\n",
    "    assert X.ndim == y.ndim == 2, \\\n",
    "    \"X와 y는 2차원이어야 함\"\n",
    "\n",
    "    if start+batch_size > X.shape[0]:\n",
    "        batch_size = X.shape[0] - start\n",
    "    \n",
    "    X_batch, y_batch = X[start:start+batch_size], y[start:start+batch_size]\n",
    "    \n",
    "    return X_batch, y_batch"
   ]
  },
  {
   "cell_type": "code",
   "execution_count": 93,
   "metadata": {},
   "outputs": [],
   "source": [
    "def forward_loss(X: ndarray,\n",
    "                 y: ndarray,\n",
    "                 weights: Dict[str, ndarray]) -> Tuple[Dict[str, ndarray], float]:\n",
    "    '''\n",
    "    예측을 구하고 이에 대한 손실값을 계산한다\n",
    "    (주로 추론시 사용됨)\n",
    "    '''\n",
    "    N = np.dot(X, weights['W'])\n",
    "\n",
    "    P = N + weights['B']\n",
    "\n",
    "    loss = np.mean(np.power(y - P, 2))\n",
    "\n",
    "    forward_info: Dict[str, ndarray] = {}\n",
    "    forward_info['X'] = X\n",
    "    forward_info['N'] = N\n",
    "    forward_info['P'] = P\n",
    "    forward_info['y'] = y\n",
    "\n",
    "    return forward_info, loss"
   ]
  },
  {
   "cell_type": "code",
   "execution_count": 94,
   "metadata": {},
   "outputs": [],
   "source": [
    "def init_weights(n_in: int) -> Dict[str, ndarray]:\n",
    "    '''\n",
    "    첫 번째 순방향 계산을 위해 가중치를 초기화\n",
    "    '''\n",
    "    \n",
    "    weights: Dict[str, ndarray] = {}\n",
    "    W = np.random.randn(n_in, 1)\n",
    "    B = np.random.randn(1, 1)\n",
    "    \n",
    "    weights['W'] = W\n",
    "    weights['B'] = B\n",
    "\n",
    "    return weights"
   ]
  },
  {
   "cell_type": "code",
   "execution_count": 95,
   "metadata": {},
   "outputs": [],
   "source": [
    "def train(X: ndarray, \n",
    "          y: ndarray, \n",
    "          n_iter: int = 1000,\n",
    "          learning_rate: float = 0.01,\n",
    "          batch_size: int = 100,\n",
    "          return_losses: bool = False, \n",
    "          return_weights: bool = False, \n",
    "          seed: int = 1) -> None:\n",
    "    '''\n",
    "    정해진 횟수만큼의 에폭 동안 모델을 학습\n",
    "    '''\n",
    "    if seed:\n",
    "        np.random.seed(seed)\n",
    "    start = 0\n",
    "\n",
    "    # 가중치 초기화\n",
    "    weights = init_weights(X.shape[1])\n",
    "\n",
    "    # 데이터 섞기\n",
    "    X, y = permute_data(X, y)\n",
    "    \n",
    "    if return_losses:\n",
    "        losses = []\n",
    "\n",
    "    for i in range(n_iter):\n",
    "\n",
    "        # 배치 생성\n",
    "        if start >= X.shape[0]:\n",
    "            X, y = permute_data(X, y)\n",
    "            start = 0\n",
    "        \n",
    "        X_batch, y_batch = generate_batch(X, y, start, batch_size)\n",
    "        start += batch_size\n",
    "    \n",
    "        # 생성한 배치로 학습\n",
    "        forward_info, loss = forward_loss(X_batch, y_batch, weights)\n",
    "\n",
    "        if return_losses:\n",
    "            losses.append(loss)\n",
    "\n",
    "        loss_grads = loss_gradients(forward_info, weights)\n",
    "        for key in weights.keys():\n",
    "            weights[key] -= learning_rate * loss_grads[key]\n",
    "\n",
    "    if return_weights:\n",
    "        return losses, weights\n",
    "    \n",
    "    return None"
   ]
  },
  {
   "cell_type": "code",
   "execution_count": 96,
   "metadata": {},
   "outputs": [],
   "source": [
    "train_info = train(X_train, y_train,\n",
    "                   n_iter = 1000,\n",
    "                   learning_rate = 0.001,\n",
    "                   batch_size=23, \n",
    "                   return_losses=True, \n",
    "                   return_weights=True, \n",
    "                   seed=180708)\n",
    "losses = train_info[0]\n",
    "weights = train_info[1]"
   ]
  },
  {
   "cell_type": "code",
   "execution_count": 97,
   "metadata": {
    "scrolled": true
   },
   "outputs": [
    {
     "data": {
      "image/png": "[encoded data removed]",
      "text/plain": [
       "<Figure size 432x288 with 1 Axes>"
      ]
     },
     "metadata": {
      "needs_background": "light"
     },
     "output_type": "display_data"
    }
   ],
   "source": [
    "plt.plot(list(range(1000)), losses);"
   ]
  },
  {
   "cell_type": "code",
   "execution_count": 98,
   "metadata": {},
   "outputs": [],
   "source": [
    "def predict(X: ndarray,\n",
    "            weights: Dict[str, ndarray]):\n",
    "    '''\n",
    "    선형회귀 모델로 예측하기\n",
    "    '''\n",
    "\n",
    "    N = np.dot(X, weights['W'])\n",
    "\n",
    "    return N + weights['B']"
   ]
  },
  {
   "cell_type": "code",
   "execution_count": 99,
   "metadata": {},
   "outputs": [],
   "source": [
    "preds = predict(X_test, weights)"
   ]
  },
  {
   "cell_type": "code",
   "execution_count": 100,
   "metadata": {},
   "outputs": [
    {
     "name": "stdout",
     "output_type": "stream",
     "text": [
      "평균절대오차: 3.5644 \n",
      "제곱근 평균제곱오차: 5.0497\n"
     ]
    }
   ],
   "source": [
    "print(\"평균절대오차:\", round(mae(preds, y_test), 4), \"\\n\"\n",
    "      \"제곱근 평균제곱오차:\", round(rmse(preds, y_test), 4))"
   ]
  },
  {
   "cell_type": "code",
   "execution_count": 101,
   "metadata": {},
   "outputs": [
    {
     "data": {
      "text/plain": [
       "22.0776"
      ]
     },
     "execution_count": 101,
     "metadata": {},
     "output_type": "execute_result"
    }
   ],
   "source": [
    "np.round(y_test.mean(), 4)"
   ]
  },
  {
   "cell_type": "code",
   "execution_count": 102,
   "metadata": {
    "scrolled": true
   },
   "outputs": [
    {
     "data": {
      "text/plain": [
       "0.2287"
      ]
     },
     "execution_count": 102,
     "metadata": {},
     "output_type": "execute_result"
    }
   ],
   "source": [
    "np.round(rmse(preds, y_test) / y_test.mean(), 4)"
   ]
  },
  {
   "cell_type": "markdown",
   "metadata": {},
   "source": [
    "제곱근 평균제곱오차는 약 23%"
   ]
  },
  {
   "cell_type": "code",
   "execution_count": 103,
   "metadata": {},
   "outputs": [
    {
     "data": {
      "image/png": "[encoded data removed]",
      "text/plain": [
       "<Figure size 432x288 with 1 Axes>"
      ]
     },
     "metadata": {
      "needs_background": "light"
     },
     "output_type": "display_data"
    }
   ],
   "source": [
    "plt.xlabel(\"예측값\")\n",
    "plt.ylabel(\"실젯값\")\n",
    "plt.title(\"선형회귀 모델의 예측값과 실젯값 비교\");\n",
    "plt.xlim([0, 51])\n",
    "plt.ylim([0, 51])\n",
    "plt.scatter(preds, y_test)\n",
    "plt.plot([0, 51], [0, 51]);\n",
    "# plt.savefig(GRAPHS_IMG_FILEPATH + \"01_linear_custom_pred_vs_actual.png\");"
   ]
  },
  {
   "cell_type": "code",
   "execution_count": 104,
   "metadata": {},
   "outputs": [],
   "source": [
    "NUM = 40\n",
    "a = np.repeat(X_test[:,:-1].mean(axis=0, keepdims=True), NUM, axis=0)\n",
    "b = np.linspace(-1.5, 3.5, NUM).reshape(NUM, 1)\n",
    "\n",
    "test_feature = np.concatenate([a, b], axis=1)\n",
    "test_preds = predict(test_feature, weights)[:, 0]"
   ]
  },
  {
   "cell_type": "code",
   "execution_count": 105,
   "metadata": {},
   "outputs": [
    {
     "data": {
      "image/png": "[encoded data removed]",
      "text/plain": [
       "<Figure size 432x288 with 1 Axes>"
      ]
     },
     "metadata": {
      "needs_background": "light"
     },
     "output_type": "display_data"
    }
   ],
   "source": [
    "plt.scatter(X_test[:, 12], y_test)\n",
    "plt.plot(np.array(test_feature[:, -1]), test_preds, linewidth=2, c='orange')\n",
    "plt.ylim([6, 51])\n",
    "plt.xlabel(\"가장 중요도가 높은 특징(정규화됨)\")\n",
    "plt.ylabel(\"실젯값/예측값\")\n",
    "plt.title(\"선형회귀 모델에서 가장 중요도가 높은 특징과 실젯값, 예측값 비교\");\n",
    "# plt.savefig(GRAPHS_IMG_FILEPATH + \"03_most_important_feature_vs_predictions.png\")"
   ]
  },
  {
   "cell_type": "markdown",
   "metadata": {},
   "source": [
    "## 계수"
   ]
  },
  {
   "cell_type": "code",
   "execution_count": 106,
   "metadata": {},
   "outputs": [
    {
     "data": {
      "text/plain": [
       "array([-1.0954,  0.7353,  0.1977,  0.7475, -2.2849,  2.2006,  0.7195,\n",
       "       -2.6384,  2.5358, -1.6892, -2.3162,  0.8435, -4.2553])"
      ]
     },
     "execution_count": 106,
     "metadata": {},
     "output_type": "execute_result"
    }
   ],
   "source": [
    "np.round(weights['W'].reshape(-1), 4)"
   ]
  },
  {
   "cell_type": "code",
   "execution_count": 107,
   "metadata": {},
   "outputs": [
    {
     "data": {
      "text/plain": [
       "array([[-1.0148,  0.7065,  0.276 ,  0.7092, -2.206 ,  2.3793,  0.7133,\n",
       "        -2.6625,  2.6325, -1.8172, -2.3266,  0.8465, -4.1889]])"
      ]
     },
     "execution_count": 107,
     "metadata": {},
     "output_type": "execute_result"
    }
   ],
   "source": [
    "np.round(lr.coef_, 4)"
   ]
  },
  {
   "cell_type": "code",
   "execution_count": 108,
   "metadata": {},
   "outputs": [
    {
     "data": {
      "text/plain": [
       "array([[22.6312]])"
      ]
     },
     "execution_count": 108,
     "metadata": {},
     "output_type": "execute_result"
    }
   ],
   "source": [
    "np.round(weights['B'], 4)"
   ]
  },
  {
   "cell_type": "code",
   "execution_count": 109,
   "metadata": {
    "scrolled": true
   },
   "outputs": [
    {
     "data": {
      "text/plain": [
       "array([22.6195])"
      ]
     },
     "execution_count": 109,
     "metadata": {},
     "output_type": "execute_result"
    }
   ],
   "source": [
    "np.round(lr.intercept_, 4)"
   ]
  },
  {
   "cell_type": "markdown",
   "metadata": {},
   "source": [
    "계수는 싸이킷런으로 만든 선형회귀 모형과 직접 구현한 선형회귀 모형에서 모두 같았다."
   ]
  },
  {
   "cell_type": "markdown",
   "metadata": {},
   "source": [
    "## 가장 중요도가 높은 특징과 목푯값 사이의 이론적 관계"
   ]
  },
  {
   "cell_type": "code",
   "execution_count": 110,
   "metadata": {},
   "outputs": [],
   "source": [
    "NUM = 40\n",
    "a = np.repeat(X_test[:,:-1].mean(axis=0, keepdims=True), NUM, axis=0)\n",
    "b = np.linspace(-1.5, 3.5, NUM).reshape(NUM, 1)"
   ]
  },
  {
   "cell_type": "code",
   "execution_count": 111,
   "metadata": {},
   "outputs": [],
   "source": [
    "test_feature = np.concatenate([a, b], axis=1)\n",
    "preds = predict(test_feature, weights)[:, 0]"
   ]
  },
  {
   "cell_type": "code",
   "execution_count": 112,
   "metadata": {
    "scrolled": false
   },
   "outputs": [
    {
     "data": {
      "text/plain": [
       "(6.0, 51.0)"
      ]
     },
     "execution_count": 112,
     "metadata": {},
     "output_type": "execute_result"
    },
    {
     "data": {
      "image/png": "[encoded data removed]",
      "text/plain": [
       "<Figure size 432x288 with 1 Axes>"
      ]
     },
     "metadata": {
      "needs_background": "light"
     },
     "output_type": "display_data"
    }
   ],
   "source": [
    "plt.scatter(np.array(test_feature[:, -1]), np.array(preds))\n",
    "plt.ylim([6, 51])\n",
    "# plt.savefig(GRAPHS_IMG_FILEPATH + \"/04_relationship_most_impt_feat_preds.png\")"
   ]
  },
  {
   "cell_type": "markdown",
   "metadata": {},
   "source": [
    "# 신경망 모델을 이용한 회귀"
   ]
  },
  {
   "cell_type": "code",
   "execution_count": 113,
   "metadata": {},
   "outputs": [],
   "source": [
    "def sigmoid(x: ndarray) -> ndarray:\n",
    "    return 1 / (1 + np.exp(-1.0 * x))"
   ]
  },
  {
   "cell_type": "code",
   "execution_count": 114,
   "metadata": {},
   "outputs": [
    {
     "data": {
      "image/png": "[encoded data removed]",
      "text/plain": [
       "<Figure size 432x288 with 1 Axes>"
      ]
     },
     "metadata": {
      "needs_background": "light"
     },
     "output_type": "display_data"
    }
   ],
   "source": [
    "plt.plot(np.arange(-5, 5, 0.01),\n",
    "         sigmoid(np.arange(-5, 5, 0.01)));\n",
    "plt.title(\"$-5 \\leq x \\leq 5$ 구간에서 sigmoid 함수의 그래프\")\n",
    "plt.xlabel(\"X\")\n",
    "plt.ylabel(\"$sigmoid(x)$\");\n",
    "# plt.savefig(GRAPHS_IMG_FILEPATH + \"05_sigmoid_function.png\")"
   ]
  },
  {
   "cell_type": "code",
   "execution_count": 115,
   "metadata": {},
   "outputs": [],
   "source": [
    "def init_weights(input_size: int, \n",
    "                 hidden_size: int) -> Dict[str, ndarray]:\n",
    "    '''\n",
    "    신경망 모델의 가중치 초기화\n",
    "    '''\n",
    "    weights: Dict[str, ndarray] = {}\n",
    "    weights['W1'] = np.random.randn(input_size, hidden_size)\n",
    "    weights['B1'] = np.random.randn(1, hidden_size)\n",
    "    weights['W2'] = np.random.randn(hidden_size, 1)\n",
    "    weights['B2'] = np.random.randn(1, 1)\n",
    "    return weights"
   ]
  },
  {
   "cell_type": "code",
   "execution_count": 116,
   "metadata": {},
   "outputs": [],
   "source": [
    "def forward_loss(X: ndarray,\n",
    "                 y: ndarray,\n",
    "                 weights: Dict[str, ndarray]\n",
    "                 ) -> Tuple[Dict[str, ndarray], float]:\n",
    "    '''\n",
    "    신경망 모델의 순방향 계산 및 손실값 계산을 단계별로 수행 \n",
    "    '''\n",
    "    M1 = np.dot(X, weights['W1'])\n",
    "\n",
    "    N1 = M1 + weights['B1']\n",
    "\n",
    "    O1 = sigmoid(N1)\n",
    "    \n",
    "    M2 = np.dot(O1, weights['W2'])\n",
    "\n",
    "    P = M2 + weights['B2']    \n",
    "\n",
    "    loss = np.mean(np.power(y - P, 2))\n",
    "\n",
    "    forward_info: Dict[str, ndarray] = {}\n",
    "    forward_info['X'] = X\n",
    "    forward_info['M1'] = M1\n",
    "    forward_info['N1'] = N1\n",
    "    forward_info['O1'] = O1\n",
    "    forward_info['M2'] = M2\n",
    "    forward_info['P'] = P\n",
    "    forward_info['y'] = y\n",
    "\n",
    "    return forward_info, loss"
   ]
  },
  {
   "cell_type": "code",
   "execution_count": 117,
   "metadata": {},
   "outputs": [],
   "source": [
    "def loss_gradients(forward_info: Dict[str, ndarray], \n",
    "                   weights: Dict[str, ndarray]) -> Dict[str, ndarray]:\n",
    "    '''\n",
    "    신경망의 각 파라미터에 대한 손실의 편미분을 계산\n",
    "    '''    \n",
    "    dLdP = -(forward_info['y'] - forward_info['P'])\n",
    "    \n",
    "    dPdM2 = np.ones_like(forward_info['M2'])\n",
    "\n",
    "    dLdM2 = dLdP * dPdM2\n",
    "  \n",
    "    dPdB2 = np.ones_like(weights['B2'])\n",
    "\n",
    "    dLdB2 = (dLdP * dPdB2).sum(axis=0)\n",
    "    \n",
    "    dM2dW2 = np.transpose(forward_info['O1'], (1, 0))\n",
    "    \n",
    "    dLdW2 = np.dot(dM2dW2, dLdP)\n",
    "\n",
    "    dM2dO1 = np.transpose(weights['W2'], (1, 0)) \n",
    "\n",
    "    dLdO1 = np.dot(dLdM2, dM2dO1)\n",
    "    \n",
    "    dO1dN1 = sigmoid(forward_info['N1']) * (1- sigmoid(forward_info['N1']))\n",
    "    \n",
    "    dLdN1 = dLdO1 * dO1dN1\n",
    "    \n",
    "    dN1dB1 = np.ones_like(weights['B1'])\n",
    "    \n",
    "    dN1dM1 = np.ones_like(forward_info['M1'])\n",
    "    \n",
    "    dLdB1 = (dLdN1 * dN1dB1).sum(axis=0)\n",
    "    \n",
    "    dLdM1 = dLdN1 * dN1dM1\n",
    "    \n",
    "    dM1dW1 = np.transpose(forward_info['X'], (1, 0)) \n",
    "\n",
    "    dLdW1 = np.dot(dM1dW1, dLdM1)\n",
    "\n",
    "    loss_gradients: Dict[str, ndarray] = {}\n",
    "    loss_gradients['W2'] = dLdW2\n",
    "    loss_gradients['B2'] = dLdB2.sum(axis=0)\n",
    "    loss_gradients['W1'] = dLdW1\n",
    "    loss_gradients['B1'] = dLdB1.sum(axis=0)\n",
    "    \n",
    "    return loss_gradients"
   ]
  },
  {
   "cell_type": "code",
   "execution_count": 118,
   "metadata": {},
   "outputs": [],
   "source": [
    "def predict(X: ndarray, \n",
    "            weights: Dict[str, ndarray]) -> ndarray:\n",
    "    '''\n",
    "    직접 만든 신경망 모델로 예측값 계산 \n",
    "    '''\n",
    "    M1 = np.dot(X, weights['W1'])\n",
    "\n",
    "    N1 = M1 + weights['B1']\n",
    "\n",
    "    O1 = sigmoid(N1)\n",
    "\n",
    "    M2 = np.dot(O1, weights['W2'])\n",
    "\n",
    "    P = M2 + weights['B2']    \n",
    "\n",
    "    return P"
   ]
  },
  {
   "cell_type": "code",
   "execution_count": 119,
   "metadata": {},
   "outputs": [],
   "source": [
    "def train(X_train: ndarray, y_train: ndarray,\n",
    "          X_test: ndarray, y_test: ndarray,\n",
    "          n_iter: int = 1000,\n",
    "          test_every: int = 1000,\n",
    "          learning_rate: float = 0.01,\n",
    "          hidden_size= 13,\n",
    "          batch_size: int = 100,\n",
    "          return_losses: bool = False, \n",
    "          return_weights: bool = False, \n",
    "          return_scores: bool = False,\n",
    "          seed: int = 1) -> None:\n",
    "\n",
    "    if seed:\n",
    "        np.random.seed(seed)\n",
    "\n",
    "    start = 0\n",
    "\n",
    "    # 가중치 초기화\n",
    "    weights = init_weights(X_train.shape[1], \n",
    "                           hidden_size=hidden_size)\n",
    "\n",
    "    # 데이터 섞기\n",
    "    X_train, y_train = permute_data(X_train, y_train)\n",
    "    \n",
    "\n",
    "    losses = []\n",
    "        \n",
    "    val_scores = []\n",
    "\n",
    "    for i in range(n_iter):\n",
    "\n",
    "        # 배치 생성\n",
    "        if start >= X_train.shape[0]:\n",
    "            X_train, y_train = permute_data(X_train, y_train)\n",
    "            start = 0\n",
    "        \n",
    "        X_batch, y_batch = generate_batch(X_train, y_train, start, batch_size)\n",
    "        start += batch_size\n",
    "    \n",
    "        # 생성한 배치로 학습 수행\n",
    "        forward_info, loss = forward_loss(X_batch, y_batch, weights)\n",
    "\n",
    "        if return_losses:\n",
    "            losses.append(loss)\n",
    "\n",
    "        loss_grads = loss_gradients(forward_info, weights)\n",
    "        for key in weights.keys():\n",
    "            weights[key] -= learning_rate * loss_grads[key]\n",
    "        \n",
    "        if return_scores:\n",
    "            if i % test_every == 0 and i != 0:\n",
    "                preds = predict(X_test, weights)\n",
    "                val_scores.append(r2_score(preds, y_test))\n",
    "\n",
    "    if return_weights:\n",
    "        return losses, weights, val_scores\n",
    "    \n",
    "    return None"
   ]
  },
  {
   "cell_type": "code",
   "execution_count": 120,
   "metadata": {},
   "outputs": [],
   "source": [
    "if TEST_ALL:\n",
    "    num_iter = 10000\n",
    "    test_every = 1000\n",
    "    train_info = train(X_train, y_train, X_test, y_test,\n",
    "                       n_iter=num_iter,\n",
    "                       test_every = test_every,\n",
    "                       learning_rate = 0.001,\n",
    "                       batch_size=23, \n",
    "                       return_losses=False, \n",
    "                       return_weights=True, \n",
    "                       return_scores=False,\n",
    "                       seed=80718)\n",
    "    losses = train_info[0]\n",
    "    weights = train_info[1]\n",
    "    val_scores = train_info[2]"
   ]
  },
  {
   "cell_type": "code",
   "execution_count": 121,
   "metadata": {
    "scrolled": true
   },
   "outputs": [],
   "source": [
    "if TEST_ALL:\n",
    "    import matplotlib.pyplot as plt\n",
    "    %matplotlib inline\n",
    "    plt.ylim([-1,1])\n",
    "    plt.plot(list(range(int(num_iter / test_every - 1))), val_scores); \n",
    "    plt.xlabel(\"배치 (000s)\")\n",
    "    plt.title(\"검증 점수\")"
   ]
  },
  {
   "cell_type": "markdown",
   "metadata": {},
   "source": [
    "### 학습률 조정"
   ]
  },
  {
   "cell_type": "code",
   "execution_count": 122,
   "metadata": {},
   "outputs": [],
   "source": [
    "def r2_score_lr(learning_rate):\n",
    "    train_info = train(X_train, y_train, X_test, y_test,\n",
    "                   n_iter=100000,\n",
    "                   test_every = 100000,\n",
    "                   learning_rate = learning_rate,\n",
    "                   batch_size=23, \n",
    "                   return_losses=False, \n",
    "                   return_weights=True, \n",
    "                   return_scores=False,\n",
    "                   seed=80718)\n",
    "    weights = train_info[1]\n",
    "    preds = predict(X_test, weights)\n",
    "    return r2_score(y_test, preds)"
   ]
  },
  {
   "cell_type": "code",
   "execution_count": 123,
   "metadata": {},
   "outputs": [],
   "source": [
    "if TEST_ALL:\n",
    "    lrs = np.geomspace(1e-2, 1e-6, num=20)"
   ]
  },
  {
   "cell_type": "code",
   "execution_count": 124,
   "metadata": {},
   "outputs": [],
   "source": [
    "if TEST_ALL:\n",
    "    r2s = [r2_score_lr(lr) for lr in lrs]"
   ]
  },
  {
   "cell_type": "code",
   "execution_count": 125,
   "metadata": {},
   "outputs": [],
   "source": [
    "if TEST_ALL:\n",
    "    plt.semilogx(lrs, r2s)"
   ]
  },
  {
   "cell_type": "markdown",
   "metadata": {},
   "source": [
    "## 모델 평가"
   ]
  },
  {
   "cell_type": "code",
   "execution_count": 126,
   "metadata": {},
   "outputs": [],
   "source": [
    "train_info = train(X_train, y_train, X_test, y_test,\n",
    "                   n_iter=10000,\n",
    "                   test_every = 1000,\n",
    "                   learning_rate = 0.001,\n",
    "                   batch_size=23, \n",
    "                   return_losses=True, \n",
    "                   return_weights=True, \n",
    "                   return_scores=False,\n",
    "                   seed=180807)\n",
    "losses = train_info[0]\n",
    "weights = train_info[1]"
   ]
  },
  {
   "cell_type": "code",
   "execution_count": 127,
   "metadata": {},
   "outputs": [
    {
     "data": {
      "image/png": "[encoded data removed]",
      "text/plain": [
       "<Figure size 432x288 with 1 Axes>"
      ]
     },
     "metadata": {
      "needs_background": "light"
     },
     "output_type": "display_data"
    }
   ],
   "source": [
    "plt.plot(list(range(10000)), losses);"
   ]
  },
  {
   "cell_type": "code",
   "execution_count": 128,
   "metadata": {},
   "outputs": [],
   "source": [
    "preds = predict(X_test, weights)"
   ]
  },
  {
   "cell_type": "markdown",
   "metadata": {},
   "source": [
    "## 중요도가 높은 특징 찾기"
   ]
  },
  {
   "cell_type": "markdown",
   "metadata": {},
   "source": [
    "절대값이 9보다 높은 두 가지가 가장 중요도 높은 특징의 조합이다."
   ]
  },
  {
   "cell_type": "code",
   "execution_count": 129,
   "metadata": {},
   "outputs": [
    {
     "data": {
      "text/plain": [
       "array([[  6.8818],\n",
       "       [  7.3908],\n",
       "       [  5.632 ],\n",
       "       [  7.2358],\n",
       "       [  7.6253],\n",
       "       [  6.754 ],\n",
       "       [  3.3251],\n",
       "       [  9.7287],\n",
       "       [  5.6011],\n",
       "       [-10.2469],\n",
       "       [  5.5645],\n",
       "       [  5.6762],\n",
       "       [ -4.4088]])"
      ]
     },
     "execution_count": 129,
     "metadata": {},
     "output_type": "execute_result"
    }
   ],
   "source": [
    "weights['W2']"
   ]
  },
  {
   "cell_type": "markdown",
   "metadata": {},
   "source": [
    "여기서는 인덱스 7과 9에 해당한다. 이들의 조합은 다음과 같다."
   ]
  },
  {
   "cell_type": "code",
   "execution_count": 130,
   "metadata": {
    "scrolled": true
   },
   "outputs": [
    {
     "data": {
      "text/plain": [
       "array([-3.3532e+00, -4.6775e-01,  5.4810e-01, -8.8043e-02,  1.7536e+00,\n",
       "       -5.3111e+00, -9.4313e-01, -5.8730e-01, -1.2341e-03,  1.1375e+00,\n",
       "       -5.2801e-01,  1.1592e+00,  1.6007e+00])"
      ]
     },
     "execution_count": 130,
     "metadata": {},
     "output_type": "execute_result"
    }
   ],
   "source": [
    "weights['W1'][7]"
   ]
  },
  {
   "cell_type": "code",
   "execution_count": 131,
   "metadata": {},
   "outputs": [
    {
     "data": {
      "text/plain": [
       "array([-2.6785,  3.9213,  2.2398, -3.6323, -0.2241,  3.1889,  0.3231,\n",
       "        0.4316, -1.9733,  0.2403, -1.4463, -0.5084,  1.5561])"
      ]
     },
     "execution_count": 131,
     "metadata": {},
     "output_type": "execute_result"
    }
   ],
   "source": [
    "weights['W1'][9]"
   ]
  },
  {
   "cell_type": "code",
   "execution_count": 132,
   "metadata": {},
   "outputs": [
    {
     "name": "stdout",
     "output_type": "stream",
     "text": [
      "평균절대오차: 2.5951 \n",
      "제곱근 평균제곱오차: 3.8851\n"
     ]
    }
   ],
   "source": [
    "print(\"평균절대오차:\", round(mae(preds, y_test), 4), \"\\n\"\n",
    "      \"제곱근 평균제곱오차:\", round(rmse(preds, y_test), 4))"
   ]
  },
  {
   "cell_type": "code",
   "execution_count": 133,
   "metadata": {},
   "outputs": [
    {
     "data": {
      "image/png": "[encoded data removed]",
      "text/plain": [
       "<Figure size 432x288 with 1 Axes>"
      ]
     },
     "metadata": {
      "needs_background": "light"
     },
     "output_type": "display_data"
    }
   ],
   "source": [
    "plt.xlabel(\"예측값\")\n",
    "plt.ylabel(\"목푯값\")\n",
    "plt.title(\"신경망을 이용한 회귀에서 예측값과 목푯값의 비교\")\n",
    "plt.xlim([0, 51])\n",
    "plt.ylim([0, 51])\n",
    "plt.scatter(preds, y_test)\n",
    "plt.plot([0, 51], [0, 51]);\n",
    "# plt.savefig(GRAPHS_IMG_FILEPATH + \"07_neural_network_regression_preds_vs_target.png\");"
   ]
  },
  {
   "cell_type": "code",
   "execution_count": 62,
   "metadata": {},
   "outputs": [
    {
     "data": {
      "text/plain": [
       "2.5951"
      ]
     },
     "execution_count": 62,
     "metadata": {},
     "output_type": "execute_result"
    }
   ],
   "source": [
    "np.round(np.mean(np.array(np.abs(preds - y_test))), 4)"
   ]
  },
  {
   "cell_type": "code",
   "execution_count": 63,
   "metadata": {},
   "outputs": [
    {
     "data": {
      "text/plain": [
       "15.0943"
      ]
     },
     "execution_count": 63,
     "metadata": {},
     "output_type": "execute_result"
    }
   ],
   "source": [
    "np.round(np.mean(np.array(np.power(preds - y_test, 2))), 4)"
   ]
  },
  {
   "cell_type": "markdown",
   "metadata": {},
   "source": [
    "## 중요도가 높은 특징과 목푯값의 이론적 관계"
   ]
  },
  {
   "cell_type": "code",
   "execution_count": 135,
   "metadata": {},
   "outputs": [],
   "source": [
    "NUM = 40\n",
    "a = np.repeat(X_test[:,:-1].mean(axis=0, keepdims=True), NUM, axis=0)\n",
    "b = np.linspace(-1.5, 3.5, NUM).reshape(NUM, 1)\n",
    "test_feature = np.concatenate([a, b], axis=1)\n",
    "preds_test = predict(test_feature, weights)[:, 0]"
   ]
  },
  {
   "cell_type": "code",
   "execution_count": 136,
   "metadata": {
    "scrolled": true
   },
   "outputs": [
    {
     "data": {
      "image/png": "[encoded data removed]",
      "text/plain": [
       "<Figure size 432x288 with 1 Axes>"
      ]
     },
     "metadata": {
      "needs_background": "light"
     },
     "output_type": "display_data"
    }
   ],
   "source": [
    "plt.scatter(X_test[:, 12], preds)\n",
    "plt.plot(np.array(test_feature[:, -1]), preds_test, linewidth=2, c='orange')\n",
    "plt.ylim([6, 51])\n",
    "plt.xlabel(\"가장 중요도가 높은 특징(정규화됨)\")\n",
    "plt.ylabel(\"목푯값/예측값\")\n",
    "plt.title(\"신경망을 이용한 회귀에서 가장 중요도가 높은 특징과 목푯값, 예측값의 비교\");\n",
    "# plt.savefig(GRAPHS_IMG_FILEPATH + \"08_neural_network_regression_impt_feat_vs_preds.png\")"
   ]
  }
 ],
 "metadata": {
  "kernelspec": {
   "display_name": "Python 3.10.8",
   "language": "python",
   "name": "python3"
  },
  "language_info": {
   "codemirror_mode": {
    "name": "ipython",
    "version": 3
   },
   "file_extension": ".py",
   "mimetype": "text/x-python",
   "name": "python",
   "nbconvert_exporter": "python",
   "pygments_lexer": "ipython3",
   "version": "3.10.8"
  },
  "vscode": {
   "interpreter": {
    "hash": "ee3130248c7cb360b786e6b75ac931a16b69a5009507498d97323e4bb2fd9076"
   }
  }
 },
 "nbformat": 4,
 "nbformat_minor": 2
}
