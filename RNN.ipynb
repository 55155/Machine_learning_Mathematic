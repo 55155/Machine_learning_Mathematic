{
 "cells": [
  {
   "cell_type": "code",
   "execution_count": null,
   "metadata": {},
   "outputs": [],
   "source": []
  }
 ],
 "metadata": {
  "kernelspec": {
   "display_name": "Python 3.9.7 ('base')",
   "language": "python",
   "name": "python3"
  },
  "language_info": {
   "name": "python",
   "version": "3.9.7"
  },
  "orig_nbformat": 4,
  "vscode": {
   "interpreter": {
    "hash": "ad568969d2aa1aef4158a6ff1da862b3e5703ede02bcff9ed94b56b11c08ceb6"
   }
  }
 },
 "nbformat": 4,
 "nbformat_minor": 2
}
