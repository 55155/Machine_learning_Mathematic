{
 "cells": [
  {
   "cell_type": "code",
   "execution_count": 13,
   "metadata": {},
   "outputs": [
    {
     "name": "stdout",
     "output_type": "stream",
     "text": [
      "1346269\n",
      "1346269\n",
      "29\n"
     ]
    }
   ],
   "source": [
    "# f[n] = f[n-1] + f[n-2]\n",
    "# n = 0, n = 1\n",
    "# 1 1 2 3 5 8 13 21 \n",
    "# top down\n",
    "\n",
    "count  = 0\n",
    "def fibo(x):\n",
    "    global count\n",
    "    if x == 0 or x == 1:\n",
    "        count += 1\n",
    "        return 1\n",
    "    else:\n",
    "        return fibo(x-1) + fibo(x-2)\n",
    "     \n",
    "\n",
    "def fibo_dp(x):\n",
    "    l = [0] * (x+1)\n",
    "    l[0], l[1] = 1, 1 \n",
    "\n",
    "    count = 0\n",
    "    if x == 1 or x == 0:\n",
    "        return l[x]\n",
    "    else:\n",
    "        for i in range(2,x+1):\n",
    "            count += 1\n",
    "\n",
    "            l[i] = l[i-1] + l[i-2]\n",
    "            # l[2] = l[0] + l[1] \n",
    "    return count\n",
    "\n",
    "print(fibo(30))\n",
    "print(count)\n",
    "print(fibo_dp(30))\n",
    "\n",
    "\n",
    "    "
   ]
  },
  {
   "cell_type": "code",
   "execution_count": null,
   "metadata": {},
   "outputs": [],
   "source": []
  }
 ],
 "metadata": {
  "kernelspec": {
   "display_name": "Python 3.9.7 ('base')",
   "language": "python",
   "name": "python3"
  },
  "language_info": {
   "codemirror_mode": {
    "name": "ipython",
    "version": 3
   },
   "file_extension": ".py",
   "mimetype": "text/x-python",
   "name": "python",
   "nbconvert_exporter": "python",
   "pygments_lexer": "ipython3",
   "version": "3.9.7"
  },
  "orig_nbformat": 4,
  "vscode": {
   "interpreter": {
    "hash": "ad568969d2aa1aef4158a6ff1da862b3e5703ede02bcff9ed94b56b11c08ceb6"
   }
  }
 },
 "nbformat": 4,
 "nbformat_minor": 2
}
